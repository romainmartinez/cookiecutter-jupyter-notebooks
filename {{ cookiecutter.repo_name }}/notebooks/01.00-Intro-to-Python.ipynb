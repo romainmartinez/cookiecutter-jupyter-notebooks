{
 "cells": [
  {
   "cell_type": "markdown",
   "metadata": {},
   "source": [
    "# Why we chose python"
   ]
  },
  {
   "cell_type": "markdown",
   "metadata": {},
   "source": [
    "## Python vs. $X$\n",
    "\n",
    "Some advantages of python:\n",
    "\n",
    "- general-purpose, dynamic high-level language that is easy to learn\n",
    "- __free__  and __open-source__\n",
    "- Someone has probably already made a package for your application\n",
    "- fast enough (_running time vs. developer time_)\n",
    "- easy to read:\n",
    "\n",
    "`python` snippet:\n",
    "```python\n",
    "for y in [2015, 2016, 2017, 2017]:\n",
    "    if y == 2018:\n",
    "        print(\"We are in 2018!\")\n",
    "```\n",
    "\n",
    "`R` snippet\n",
    "```r\n",
    "for (y in c(2015, 2016, 2017, 2018)){\n",
    "  if (y == 2018){\n",
    "    print(\"We are in 2018!\")\n",
    "  }\n",
    "}\n",
    "```\n",
    "\n",
    "This makes it popular in science and engineering."
   ]
  },
  {
   "cell_type": "markdown",
   "metadata": {},
   "source": [
    "<img src=\"https://zgab33vy595fw5zq-zippykid.netdna-ssl.com/wp-content/uploads/2017/09/growth_smaller_tags-1-1024x878.png\" width=\"80%\" align=\"center\"/>\n",
    "<img src=\"https://zgab33vy595fw5zq-zippykid.netdna-ssl.com/wp-content/uploads/2017/09/projections-1-1024x878.png\" width=\"80%\" align=\"center\"/>"
   ]
  },
  {
   "cell_type": "markdown",
   "metadata": {},
   "source": [
    "## Running python code"
   ]
  },
  {
   "cell_type": "markdown",
   "metadata": {},
   "source": [
    "We recommend the _Anaconda distributions_ to use python and manage libraries.\n",
    "\n",
    "- [Miniconda](https://conda.io/miniconda.html): Miniconda gives you the Python interpreter itself, along with a command-line tool called conda which operates as a cross-platform package manager geared toward Python packages.\n",
    "- [Anaconda](https://www.anaconda.com/download/): includes both Python and conda, and additionally bundles a suite of other pre-installed packages geared toward scientific computing.\n",
    "\n",
    "Today, we will use [Colab](https://colab.research.google.com/), a Google free cloud service."
   ]
  }
 ],
 "metadata": {
  "kernelspec": {
   "display_name": "Python [conda env:pyomeca-tuto]",
   "language": "python",
   "name": "conda-env-pyomeca-tuto-py"
  },
  "language_info": {
   "codemirror_mode": {
    "name": "ipython",
    "version": 3
   },
   "file_extension": ".py",
   "mimetype": "text/x-python",
   "name": "python",
   "nbconvert_exporter": "python",
   "pygments_lexer": "ipython3",
   "version": "3.7.0"
  }
 },
 "nbformat": 4,
 "nbformat_minor": 2
}
