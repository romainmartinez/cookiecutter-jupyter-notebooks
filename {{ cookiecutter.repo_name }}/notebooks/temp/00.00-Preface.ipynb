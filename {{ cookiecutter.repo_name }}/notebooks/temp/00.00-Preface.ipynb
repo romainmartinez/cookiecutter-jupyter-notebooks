{
 "cells": [
  {
   "cell_type": "markdown",
   "metadata": {},
   "source": [
    "<!--BOOK_INFORMATION-->\n",
    "# Effective computation in Biomechanics\n",
    "## with [pyomeca](https://github.com/pyomeca/pyomeca)\n",
    "#### Romain Martinez (martinez.staps@gmail.com | [GitHub](https://github.com/romainmartinez))\n",
    "<img src=\"https://raw.github.com/pyomeca/design/master/logo/logo_cropped.svg?sanitize=true\" width=\"100px\" align=\"left\"/>\n"
   ]
  },
  {
   "cell_type": "markdown",
   "metadata": {},
   "source": [
    "<!--BOOK_INFORMATION-->\n",
    "# Effective computation in Biomechanics\n",
    "## with [pyomeca](https://github.com/pyomeca/pyomeca)\n",
    "#### Romain Martinez (martinez.staps@gmail.com | [GitHub](https://github.com/romainmartinez))\n",
    "<img src=\"https://raw.github.com/pyomeca/design/master/logo/logo_cropped.svg?sanitize=true\" width=\"100px\" align=\"left\"/>\n"
   ]
  },
  {
   "cell_type": "markdown",
   "metadata": {},
   "source": [
    "<!--NAVIGATION-->\n",
    "| [Contents](Index.ipynb) | [1. Why we chose python](/home/romain/Documents/codes/cookiecutter-jupyter-notebooks/{{ cookiecutter.repo_name }}/notebooks/tools/../01.00-Intro-to-python.ipynb) >\n",
    "<a href=\"https://colab.research.google.com/github/{{ cookiecutter.author_name }}/{{ cookiecutter.repo_name }}/blob/master/notebooks/00.00-Preface.ipynb\"><img align=\"left\" src=\"https://colab.research.google.com/assets/colab-badge.svg\" alt=\"Open in Colab\" title=\"Open and Execute in Google Colaboratory\"></a>\n"
   ]
  },
  {
   "cell_type": "markdown",
   "metadata": {},
   "source": [
    "<!--NAVIGATION-->\n",
    "| [Contents](Index.ipynb) | [1. Why we chose python](/home/romain/Documents/codes/cookiecutter-jupyter-notebooks/{{ cookiecutter.repo_name }}/notebooks/tools/../01.00-Intro-to-python.ipynb) >\n",
    "<a href=\"https://colab.research.google.com/github/{{ cookiecutter.author_name }}/{{ cookiecutter.repo_name }}/blob/master/notebooks/00.00-Preface.ipynb\"><img align=\"left\" src=\"https://colab.research.google.com/assets/colab-badge.svg\" alt=\"Open in Colab\" title=\"Open and Execute in Google Colaboratory\"></a>\n"
   ]
  },
  {
   "cell_type": "markdown",
   "metadata": {},
   "source": [
    "<!--NAVIGATION-->\n",
    "| [Contents](Index.ipynb) | [1. Why we chose python](/home/romain/Documents/codes/cookiecutter-jupyter-notebooks/{{ cookiecutter.repo_name }}/notebooks/tools/../01.00-Intro-to-python.ipynb) >\n",
    "\n",
    "<a href=\"https://colab.research.google.com/github/pyomeca/tutorials/blob/master/notebooks/00.00-Preface.ipynb\"><img align=\"left\" src=\"https://colab.research.google.com/assets/colab-badge.svg\" alt=\"Open in Colab\" title=\"Open and Execute in Google Colaboratory\"></a>\n"
   ]
  },
  {
   "cell_type": "markdown",
   "metadata": {},
   "source": [
    "# Preface"
   ]
  },
  {
   "cell_type": "markdown",
   "metadata": {},
   "source": [
    "## Logistics\n",
    "\n",
    "Today's material is available on [github.com/pyomeca/tutorials](https://github.com/pyomeca/tutorials).\n",
    "\n",
    "Please follow the slides in [HTML](#TODO) or [PDF](#TODO).\n",
    "\n",
    "Stop me anytime if you have any questions.\n",
    "\n",
    "Feel free to contact me to:\n",
    "- setup up your development environment (_e.g., python, pyomeca, libraries_)\n",
    "- get help with your research projects"
   ]
  },
  {
   "cell_type": "markdown",
   "metadata": {},
   "source": [
    "## Outline\n",
    "The main objective is to give you **practical advices** that will be useful in your projects.\n",
    "\n",
    "1. Why we chose python?\n",
    "2. How pyomeca can help you?\n",
    "3. Statistics with spm1d\n",
    "4. Effective visualization in biomechanics https://www.data-to-viz.com/\n",
    "5. Version control and other usefull stuff"
   ]
  },
  {
   "cell_type": "markdown",
   "metadata": {},
   "source": [
    "<!--NAVIGATION-->\n",
    "| [Contents](Index.ipynb) | [1. Why we chose python](/home/romain/Documents/codes/cookiecutter-jupyter-notebooks/{{ cookiecutter.repo_name }}/notebooks/tools/../01.00-Intro-to-python.ipynb) >\n",
    "<a href=\"https://colab.research.google.com/github/{{ cookiecutter.author_name }}/{{ cookiecutter.repo_name }}/blob/master/notebooks/00.00-Preface.ipynb\"><img align=\"left\" src=\"https://colab.research.google.com/assets/colab-badge.svg\" alt=\"Open in Colab\" title=\"Open and Execute in Google Colaboratory\"></a>\n"
   ]
  },
  {
   "cell_type": "markdown",
   "metadata": {},
   "source": [
    "<!--NAVIGATION-->\n",
    "| [Contents](Index.ipynb) | [1. Why we chose python](/home/romain/Documents/codes/cookiecutter-jupyter-notebooks/{{ cookiecutter.repo_name }}/notebooks/tools/../01.00-Intro-to-python.ipynb) >\n",
    "<a href=\"https://colab.research.google.com/github/{{ cookiecutter.author_name }}/{{ cookiecutter.repo_name }}/blob/master/notebooks/00.00-Preface.ipynb\"><img align=\"left\" src=\"https://colab.research.google.com/assets/colab-badge.svg\" alt=\"Open in Colab\" title=\"Open and Execute in Google Colaboratory\"></a>\n"
   ]
  }
 ],
 "metadata": {
  "anaconda-cloud": {},
  "kernelspec": {
   "display_name": "Python 3",
   "language": "python",
   "name": "python3"
  },
  "language_info": {
   "codemirror_mode": {
    "name": "ipython",
    "version": 3
   },
   "file_extension": ".py",
   "mimetype": "text/x-python",
   "name": "python",
   "nbconvert_exporter": "python",
   "pygments_lexer": "ipython3",
   "version": "3.7.0"
  }
 },
 "nbformat": 4,
 "nbformat_minor": 2
}
