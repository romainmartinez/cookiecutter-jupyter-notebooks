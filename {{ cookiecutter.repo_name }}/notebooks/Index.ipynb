{
 "cells": [
  {
   "cell_type": "markdown",
   "metadata": {},
   "source": [
    "### [Preface](00.00-Preface.ipynb)\n",
    "\n",
    "### [1. 1. Why we chose python](01.00-Intro-to-python.ipynb)\n"
   ]
  },
  {
   "cell_type": "markdown",
   "metadata": {},
   "source": [
    "\n",
    "### [0. Preface](/home/romain/Documents/codes/cookiecutter-jupyter-notebooks/{{ cookiecutter.repo_name }}/notebooks/00.00-Preface.ipynb)\n",
    "\n",
    "### [1. 1. Why we chose python](/home/romain/Documents/codes/cookiecutter-jupyter-notebooks/{{ cookiecutter.repo_name }}/notebooks/01.00-Intro-to-python.ipynb)"
   ]
  },
  {
   "cell_type": "markdown",
   "metadata": {},
   "source": [
    "<!--INDEX_COMMENT-->\n",
    "\n",
    "### [0. Preface](/home/romain/Documents/codes/cookiecutter-jupyter-notebooks/{{ cookiecutter.repo_name }}/notebooks/00.00-Preface.ipynb)\n",
    "\n",
    "### [1. 1. Why we chose python](/home/romain/Documents/codes/cookiecutter-jupyter-notebooks/{{ cookiecutter.repo_name }}/notebooks/01.00-Intro-to-python.ipynb)"
   ]
  }
 ],
 "metadata": {
  "anaconda-cloud": {},
  "kernelspec": {
   "display_name": "Python [conda env:pyomeca-tuto]",
   "language": "python",
   "name": "conda-env-pyomeca-tuto-py"
  },
  "language_info": {
   "codemirror_mode": {
    "name": "ipython",
    "version": 3
   },
   "file_extension": ".py",
   "mimetype": "text/x-python",
   "name": "python",
   "nbconvert_exporter": "python",
   "pygments_lexer": "ipython3",
   "version": "3.7.0"
  }
 },
 "nbformat": 4,
 "nbformat_minor": 2
}
